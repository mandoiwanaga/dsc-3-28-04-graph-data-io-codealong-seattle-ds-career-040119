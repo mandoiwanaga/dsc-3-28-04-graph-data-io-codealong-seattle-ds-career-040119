{
 "cells": [
  {
   "cell_type": "markdown",
   "metadata": {},
   "source": [
    "# NetworkX Introduction - Lab\n",
    "\n",
    "## Introduction\n",
    "\n",
    "In this lab, you'll practice some of the introductory skills for NetworkX introduced in the previous lesson.\n",
    "To do this, you'll create a graph to visualize users and businesses from yelp reviews.\n",
    "## Objectives\n",
    "\n",
    "You will be able to:\n",
    "* Create basic network graphs using NetworkX\n",
    "* Add nodes to network graphs with NetworkX\n",
    "* Add edges to network graphs with NetworkX\n",
    "* Visualize network graphs with NetworkX"
   ]
  },
  {
   "cell_type": "markdown",
   "metadata": {},
   "source": [
    "## Import the Data\n",
    "\n",
    "To start, import the data stored in the file 'Yelp_reviews.csv'"
   ]
  },
  {
   "cell_type": "code",
   "execution_count": 1,
   "metadata": {},
   "outputs": [],
   "source": [
    "import pandas as pd\n",
    "import networkx as nx"
   ]
  },
  {
   "cell_type": "code",
   "execution_count": 2,
   "metadata": {},
   "outputs": [
    {
     "data": {
      "text/html": [
       "<div>\n",
       "<style scoped>\n",
       "    .dataframe tbody tr th:only-of-type {\n",
       "        vertical-align: middle;\n",
       "    }\n",
       "\n",
       "    .dataframe tbody tr th {\n",
       "        vertical-align: top;\n",
       "    }\n",
       "\n",
       "    .dataframe thead th {\n",
       "        text-align: right;\n",
       "    }\n",
       "</style>\n",
       "<table border=\"1\" class=\"dataframe\">\n",
       "  <thead>\n",
       "    <tr style=\"text-align: right;\">\n",
       "      <th></th>\n",
       "      <th>business_id</th>\n",
       "      <th>date</th>\n",
       "      <th>review_id</th>\n",
       "      <th>stars</th>\n",
       "      <th>text</th>\n",
       "      <th>type</th>\n",
       "      <th>user_id</th>\n",
       "      <th>cool</th>\n",
       "      <th>useful</th>\n",
       "      <th>funny</th>\n",
       "    </tr>\n",
       "  </thead>\n",
       "  <tbody>\n",
       "    <tr>\n",
       "      <th>0</th>\n",
       "      <td>7SO_rX1F6rQEl-5s3wZxgQ</td>\n",
       "      <td>2011-10-03</td>\n",
       "      <td>GxaYFCprt-wyqO--vB4PHQ</td>\n",
       "      <td>4</td>\n",
       "      <td>After my last review, somewhat scathing regard...</td>\n",
       "      <td>review</td>\n",
       "      <td>J3I2NClEbD1Xr8lOdjxlqQ</td>\n",
       "      <td>1</td>\n",
       "      <td>2</td>\n",
       "      <td>1</td>\n",
       "    </tr>\n",
       "    <tr>\n",
       "      <th>1</th>\n",
       "      <td>K2_Hmmo5crTYWiT_1sWnfQ</td>\n",
       "      <td>2011-12-22</td>\n",
       "      <td>FSrIgThMfFIh__TubVQkxw</td>\n",
       "      <td>3</td>\n",
       "      <td>Ok, so I'm catching up on past-due reviews.  F...</td>\n",
       "      <td>review</td>\n",
       "      <td>J3I2NClEbD1Xr8lOdjxlqQ</td>\n",
       "      <td>0</td>\n",
       "      <td>0</td>\n",
       "      <td>0</td>\n",
       "    </tr>\n",
       "    <tr>\n",
       "      <th>2</th>\n",
       "      <td>FeI75xIG8PF_XZ6P80gLBQ</td>\n",
       "      <td>2012-06-04</td>\n",
       "      <td>eeJ10gamdNebtq028i0BvA</td>\n",
       "      <td>3</td>\n",
       "      <td>I want to like Turf, but the food is just okay...</td>\n",
       "      <td>review</td>\n",
       "      <td>64YY0h0ZAR2nbzxbx0IwJg</td>\n",
       "      <td>2</td>\n",
       "      <td>1</td>\n",
       "      <td>0</td>\n",
       "    </tr>\n",
       "    <tr>\n",
       "      <th>3</th>\n",
       "      <td>6imLt53br7SJ3av07jjH7w</td>\n",
       "      <td>2012-11-06</td>\n",
       "      <td>SPDbkT9WXghJedf1xxYnOg</td>\n",
       "      <td>5</td>\n",
       "      <td>It's the place to be. \\n\\nI went before headin...</td>\n",
       "      <td>review</td>\n",
       "      <td>Ypz7hxOCnrg8Y8vxHJU-sQ</td>\n",
       "      <td>0</td>\n",
       "      <td>0</td>\n",
       "      <td>0</td>\n",
       "    </tr>\n",
       "    <tr>\n",
       "      <th>4</th>\n",
       "      <td>zmFc8M-hS4uuyY0hklIpoQ</td>\n",
       "      <td>2011-01-17</td>\n",
       "      <td>A2lCUSvDJfIa5kwUoFFk8A</td>\n",
       "      <td>4</td>\n",
       "      <td>A definite favorite in the neighborhood.\\n\\nTh...</td>\n",
       "      <td>review</td>\n",
       "      <td>nDBly08j5URmrHQ2JCbyiw</td>\n",
       "      <td>2</td>\n",
       "      <td>3</td>\n",
       "      <td>2</td>\n",
       "    </tr>\n",
       "  </tbody>\n",
       "</table>\n",
       "</div>"
      ],
      "text/plain": [
       "              business_id        date               review_id  stars  \\\n",
       "0  7SO_rX1F6rQEl-5s3wZxgQ  2011-10-03  GxaYFCprt-wyqO--vB4PHQ      4   \n",
       "1  K2_Hmmo5crTYWiT_1sWnfQ  2011-12-22  FSrIgThMfFIh__TubVQkxw      3   \n",
       "2  FeI75xIG8PF_XZ6P80gLBQ  2012-06-04  eeJ10gamdNebtq028i0BvA      3   \n",
       "3  6imLt53br7SJ3av07jjH7w  2012-11-06  SPDbkT9WXghJedf1xxYnOg      5   \n",
       "4  zmFc8M-hS4uuyY0hklIpoQ  2011-01-17  A2lCUSvDJfIa5kwUoFFk8A      4   \n",
       "\n",
       "                                                text    type  \\\n",
       "0  After my last review, somewhat scathing regard...  review   \n",
       "1  Ok, so I'm catching up on past-due reviews.  F...  review   \n",
       "2  I want to like Turf, but the food is just okay...  review   \n",
       "3  It's the place to be. \\n\\nI went before headin...  review   \n",
       "4  A definite favorite in the neighborhood.\\n\\nTh...  review   \n",
       "\n",
       "                  user_id  cool  useful  funny  \n",
       "0  J3I2NClEbD1Xr8lOdjxlqQ     1       2      1  \n",
       "1  J3I2NClEbD1Xr8lOdjxlqQ     0       0      0  \n",
       "2  64YY0h0ZAR2nbzxbx0IwJg     2       1      0  \n",
       "3  Ypz7hxOCnrg8Y8vxHJU-sQ     0       0      0  \n",
       "4  nDBly08j5URmrHQ2JCbyiw     2       3      2  "
      ]
     },
     "execution_count": 2,
     "metadata": {},
     "output_type": "execute_result"
    }
   ],
   "source": [
    "df = pd.read_csv('Yelp_reviews.csv')\n",
    "df.head()"
   ]
  },
  {
   "cell_type": "markdown",
   "metadata": {},
   "source": [
    "## Creating a Graph\n",
    "\n",
    "Now, create an initial graph!"
   ]
  },
  {
   "cell_type": "code",
   "execution_count": 5,
   "metadata": {},
   "outputs": [],
   "source": [
    "G = nx.Graph()"
   ]
  },
  {
   "cell_type": "markdown",
   "metadata": {},
   "source": [
    "## Adding Nodes"
   ]
  },
  {
   "cell_type": "markdown",
   "metadata": {},
   "source": [
    "Create a node for each user and each business in the dataset. Networks with multiple node types like this are called **bimodal networks**.\n",
    "\n",
    "Optionally, go further by creating a list of colors for when you visualize the graph. If you do this, append the color \"green\" to your color list every time you add a user node and append the color \"blue\" to your color list every time you add a business node."
   ]
  },
  {
   "cell_type": "code",
   "execution_count": 16,
   "metadata": {},
   "outputs": [],
   "source": []
  },
  {
   "cell_type": "code",
   "execution_count": 17,
   "metadata": {},
   "outputs": [
    {
     "data": {
      "text/plain": [
       "{'J3I2NClEbD1Xr8lOdjxlqQ': 'User0',\n",
       " '64YY0h0ZAR2nbzxbx0IwJg': 'User1',\n",
       " 'Ypz7hxOCnrg8Y8vxHJU-sQ': 'User2',\n",
       " 'nDBly08j5URmrHQ2JCbyiw': 'User3',\n",
       " '8qSr4B1NJL99rlylewUjOw': 'User4',\n",
       " 'V1k7XMUX4qHVUi-3IUYzhA': 'User5',\n",
       " 'w225lKHnX3jorkSXWgss0Q': 'User6',\n",
       " 'JffajLV-Dnn-eGYgdXDxFg': 'User7',\n",
       " 'wLuDGMXytNVTF8ZU2gwUEQ': 'User8',\n",
       " 'X_kPh3nt0AJPNPHye2rTlA': 'User9',\n",
       " 'xkTbpCc-YhU8-EXZDA7u0g': 'User10',\n",
       " '3SIjo6vQIvxwHKEpIHfaBg': 'User11',\n",
       " 'APLIPfq1Rf8QyhHHk2uAyA': 'User12',\n",
       " 'SW5RpjVtyMhxdzuA8dOdYA': 'User13',\n",
       " '-OMlS6yWkYjVldNhC31wYg': 'User14',\n",
       " 'nSLrExcVVphiNzvSf5H7vA': 'User15',\n",
       " '-txH2zJSBZQHO6RWvoWXuQ': 'User16',\n",
       " 'yy8vNTtESId44OcGyaVnbw': 'User17',\n",
       " 'ehtcnF3Ebvq23p107LcsuA': 'User18',\n",
       " 'XMEBJp8mmpz3vsSkvg9T9Q': 'User19',\n",
       " 'tiyg_cQaPdUuSG95Xpi_sA': 'User20',\n",
       " 'd1zJj49Q5ikgvqQX0534RQ': 'User21',\n",
       " 'vhAn390OgR1H4DwacJdc7w': 'User22',\n",
       " 'Lmgv46LyI1PlLs0KNIfYFQ': 'User23',\n",
       " 'ryjqXdp68i2I9JPOpX9URw': 'User24',\n",
       " 'W_QXYA7A0IhMrvbckz7eVg': 'User25',\n",
       " 'clTYUJCL-rHnVIS2WePRwA': 'User26',\n",
       " 'k1ACFw3wmqkNGoiGeNLc0w': 'User27',\n",
       " 'fev0iI-XDrteD4SYRKjiUw': 'User28',\n",
       " 'cg4em4uXe5ab5qH7pB01gg': 'User29',\n",
       " 'XqU1PB0XWjcr3sUyZZGaWQ': 'User30',\n",
       " 'XLah_ynCwwYshCY9jc13tw': 'User31',\n",
       " 'q5nFaw9isjD_01PpVAR7hg': 'User32',\n",
       " 'B_leEp0XWSNi5_HQ_BLAAg': 'User33',\n",
       " 'n_lAaNGeWgspbbCJc0DqRg': 'User34',\n",
       " 'XY_bQqhZfyyEi_W5n4kQNg': 'User35',\n",
       " 'ZmIgP4U4Ht9CYmNX0_zP6w': 'User36',\n",
       " 'P2vHl_ZzSzeu07W29KsKgg': 'User37',\n",
       " '3ONPPazUH-Q3XblYJIaA1A': 'User38',\n",
       " 'NPoOEAPspruMOik-9sKQtQ': 'User39',\n",
       " 'sLuaWOJNALukrThYzqovzA': 'User40',\n",
       " 'm59OpbCyRwXSvERXeevWqg': 'User41',\n",
       " 'o33IBagNFxdJhIrRTl691Q': 'User42',\n",
       " 'hebXGQk5ggZSwTlUoEcTWQ': 'User43',\n",
       " 'tdoL4Un5_hy_rJxEFLLOjw': 'User44',\n",
       " 'zqnAdayPsak5dbLF2gEvNw': 'User45',\n",
       " 'W9h1ufjEzDp7THyAqRw65g': 'User46',\n",
       " 'jdeNI5TTTuM6mj3HTgstRA': 'User47',\n",
       " 'oRRHrcRPcEAnOepF3KPfsg': 'User48',\n",
       " 'M6oU3OBf_E6gqlfkLGlStQ': 'User49',\n",
       " 'bBS2Qsf--DYRXbYe5q4CcQ': 'User50',\n",
       " '2y3LWFfyRp02EdjwcVv7sw': 'User51',\n",
       " 'O758lrR1X2zI-ySeyjdr6A': 'User52',\n",
       " '7o7MF9B9lxcWupE8jiLOaQ': 'User53',\n",
       " 'OksbhhgC71Ary3zNHMypeQ': 'User54',\n",
       " '7zDqr2I0-xpw9HF5Ha54cA': 'User55',\n",
       " 'o2CGc1kQHEFkYOECM3NFdg': 'User56',\n",
       " 'ai2W745a8wrLHJr7TY0FCA': 'User57',\n",
       " 'kq5Pdsy8Znyh9KEkxWT_QA': 'User58',\n",
       " 'Cj6tGJrLEdN35H9cR6b8Lw': 'User59',\n",
       " 'wDAAn0HlnuZQnfga6CVIKQ': 'User60',\n",
       " 'n4PmRYAvx2c6X0-fb9mT9Q': 'User61',\n",
       " '2tyadgcxcaEu5LWgLdwLAQ': 'User62',\n",
       " '7SO_rX1F6rQEl-5s3wZxgQ': 'Business0',\n",
       " 'K2_Hmmo5crTYWiT_1sWnfQ': 'Business1',\n",
       " 'FeI75xIG8PF_XZ6P80gLBQ': 'Business2',\n",
       " '6imLt53br7SJ3av07jjH7w': 'Business3',\n",
       " 'zmFc8M-hS4uuyY0hklIpoQ': 'Business4',\n",
       " 'PoRYjYUSjmeWM1WLsx_45w': 'Business5',\n",
       " 'jJhNOhuGpIsJX5SEUFFWYQ': 'Business6',\n",
       " '4r9-iKOagzn5oUvPE9Bz4Q': 'Business7',\n",
       " 'vSEFzop2GDXsIWTLxIGMiw': 'Business8',\n",
       " 'L2J3JfjXZLnX1rLhWKthqA': 'Business9',\n",
       " 'Dsvx2LEC8jk9nuGsg1Kqhg': 'Business10',\n",
       " 'PdRzCJWP7nPdYoHPdd5SOQ': 'Business11'}"
      ]
     },
     "execution_count": 17,
     "metadata": {},
     "output_type": "execute_result"
    }
   ],
   "source": [
    "names"
   ]
  },
  {
   "cell_type": "markdown",
   "metadata": {},
   "source": [
    "## Adding Edges\n",
    "\n",
    "Next, iterate through the dataset and create an edge between users and the businesses they have reviewed."
   ]
  },
  {
   "cell_type": "code",
   "execution_count": null,
   "metadata": {},
   "outputs": [],
   "source": [
    "#Your code here"
   ]
  },
  {
   "cell_type": "code",
   "execution_count": 7,
   "metadata": {},
   "outputs": [],
   "source": []
  },
  {
   "cell_type": "code",
   "execution_count": null,
   "metadata": {},
   "outputs": [],
   "source": []
  },
  {
   "cell_type": "markdown",
   "metadata": {},
   "source": [
    "## Visualizing the Graph\n",
    "\n",
    "Finally, create a visualization of your network. If you chose to color your nodes, pass the list of colors through the optional `node_color` parameter."
   ]
  },
  {
   "cell_type": "code",
   "execution_count": null,
   "metadata": {},
   "outputs": [],
   "source": [
    "\n",
    "\n"
   ]
  },
  {
   "cell_type": "markdown",
   "metadata": {},
   "source": [
    "## Summary\n",
    "\n",
    "Nice work! In this lab you created an initial network to visualize a bimodal network of businesses and yelp reviewers!"
   ]
  }
 ],
 "metadata": {
  "kernelspec": {
   "display_name": "Python 3",
   "language": "python",
   "name": "python3"
  },
  "language_info": {
   "codemirror_mode": {
    "name": "ipython",
    "version": 3
   },
   "file_extension": ".py",
   "mimetype": "text/x-python",
   "name": "python",
   "nbconvert_exporter": "python",
   "pygments_lexer": "ipython3",
   "version": "3.6.6"
  }
 },
 "nbformat": 4,
 "nbformat_minor": 2
}
